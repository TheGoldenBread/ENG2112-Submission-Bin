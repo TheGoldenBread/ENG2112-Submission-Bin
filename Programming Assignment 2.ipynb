{
 "cells": [
  {
   "cell_type": "markdown",
   "id": "8ae84d00-f719-44ab-b4b0-71a2f70f0185",
   "metadata": {},
   "source": [
    "# Programming Assignment 2"
   ]
  },
  {
   "cell_type": "markdown",
   "id": "1bd685bd-9d03-492b-a765-6860c7fd171e",
   "metadata": {},
   "source": [
    "## Experiment 2 Numpy Problems"
   ]
  },
  {
   "cell_type": "markdown",
   "id": "107c6e1d-381a-4c5b-9fc5-b18955356ae7",
   "metadata": {},
   "source": [
    "### Normalization Problem"
   ]
  },
  {
   "cell_type": "markdown",
   "id": "acdb4a40-e4cb-4b47-81d7-9c572be87508",
   "metadata": {},
   "source": [
    "Creates a random 5x5 array and normalizes them using the normalization formula. Then saved as a .npy file."
   ]
  },
  {
   "cell_type": "code",
   "execution_count": 11,
   "id": "ee59f231-a216-4ed7-a87e-ed31ed96758d",
   "metadata": {},
   "outputs": [],
   "source": [
    "import numpy as np #imports the numpy library\n",
    "\n",
    "X = np.random.rand(5, 5) #creates the random 5x5 array\n",
    "\n",
    "X_normalized = (X - X.mean()) / X.std() #Function for normalization\n",
    "\n",
    "np.save(\"X_normalized.npy\", X_normalized) #Saves the array"
   ]
  },
  {
   "cell_type": "markdown",
   "id": "b2cc9de6-a2af-4d19-bb29-7f1cbff8bfcc",
   "metadata": {},
   "source": [
    "#### Example"
   ]
  },
  {
   "cell_type": "code",
   "execution_count": 13,
   "id": "2fe00d3b-ae6d-47d6-a5b4-4bf812919ad0",
   "metadata": {},
   "outputs": [
    {
     "name": "stdout",
     "output_type": "stream",
     "text": [
      "Original Array:\n",
      " [[0.988539   0.55560186 0.50106403 0.16647939 0.93186089]\n",
      " [0.91790088 0.50197843 0.68235937 0.52162278 0.50538084]\n",
      " [0.4915776  0.54668533 0.20710494 0.17585595 0.22725411]\n",
      " [0.91242602 0.47353194 0.5543618  0.54743013 0.72255604]\n",
      " [0.55470561 0.42721525 0.49121794 0.20660229 0.71149471]]\n",
      "Normalized Array:\n",
      " [[ 1.93470719  0.06349044 -0.17222988 -1.61835296  1.68973622]\n",
      " [ 1.62939907 -0.16827774  0.61135468 -0.08337202 -0.15357203]\n",
      " [-0.2132316   0.02495192 -1.44276347 -1.57782611 -1.35567585]\n",
      " [ 1.60573592 -0.29122755  0.05813074  0.02817106  0.78509051]\n",
      " [ 0.05961674 -0.49141497 -0.21478614 -1.44493598  0.73728184]]\n"
     ]
    }
   ],
   "source": [
    "#Shows result of the array that was saved. The original and the normalized.\n",
    "print(\"Original Array:\\n\", X)\n",
    "print(\"Normalized Array:\\n\", X_normalized)"
   ]
  },
  {
   "cell_type": "markdown",
   "id": "6c503743-ae0e-41b0-8615-8f1c62cf20ff",
   "metadata": {},
   "source": [
    "### Divisible by 3 Problem"
   ]
  },
  {
   "cell_type": "markdown",
   "id": "646fe84b-a3b2-4689-ab0c-ca1f217cb931",
   "metadata": {},
   "source": [
    "Creates 10x10 array that contains the squares of the first 100 positive integers. Then determines all elements that are divisible by 3."
   ]
  },
  {
   "cell_type": "code",
   "execution_count": 17,
   "id": "6051aa29-9236-4970-8fe9-1c993affe8a3",
   "metadata": {},
   "outputs": [],
   "source": [
    "squares = np.arange(1, 101)**2 # Creates a 1d array of the first 100 positive integers and squares them.\n",
    "\n",
    "A = squares.reshape(10, 10) # Reshapes the 1d array to a 10x10\n",
    "\n",
    "div_by_3 = A[A % 3 == 0] # Finds elements that are divisible by 3\n",
    "\n",
    "np.save(\"div_by_3.npy\", div_by_3)"
   ]
  },
  {
   "cell_type": "markdown",
   "id": "a0554dee-a733-49dc-9d0e-881b09c522f3",
   "metadata": {},
   "source": [
    "#### Example"
   ]
  },
  {
   "cell_type": "code",
   "execution_count": 19,
   "id": "a0e8e3f3-bcac-465c-a7cb-4925477a3b5c",
   "metadata": {},
   "outputs": [
    {
     "name": "stdout",
     "output_type": "stream",
     "text": [
      "Original 10x10 array:\n",
      " [[    1     4     9    16    25    36    49    64    81   100]\n",
      " [  121   144   169   196   225   256   289   324   361   400]\n",
      " [  441   484   529   576   625   676   729   784   841   900]\n",
      " [  961  1024  1089  1156  1225  1296  1369  1444  1521  1600]\n",
      " [ 1681  1764  1849  1936  2025  2116  2209  2304  2401  2500]\n",
      " [ 2601  2704  2809  2916  3025  3136  3249  3364  3481  3600]\n",
      " [ 3721  3844  3969  4096  4225  4356  4489  4624  4761  4900]\n",
      " [ 5041  5184  5329  5476  5625  5776  5929  6084  6241  6400]\n",
      " [ 6561  6724  6889  7056  7225  7396  7569  7744  7921  8100]\n",
      " [ 8281  8464  8649  8836  9025  9216  9409  9604  9801 10000]]\n",
      "\n",
      "Elements divisible by 3:\n",
      " [   9   36   81  144  225  324  441  576  729  900 1089 1296 1521 1764\n",
      " 2025 2304 2601 2916 3249 3600 3969 4356 4761 5184 5625 6084 6561 7056\n",
      " 7569 8100 8649 9216 9801]\n"
     ]
    }
   ],
   "source": [
    "#Prints Result\n",
    "print(\"Original 10x10 array:\\n\", A)\n",
    "print(\"\\nElements divisible by 3:\\n\", div_by_3)"
   ]
  },
  {
   "cell_type": "code",
   "execution_count": null,
   "id": "f68ea862-50df-4494-80c8-6a11d20a8c67",
   "metadata": {},
   "outputs": [],
   "source": []
  }
 ],
 "metadata": {
  "kernelspec": {
   "display_name": "Python 3 (ipykernel)",
   "language": "python",
   "name": "python3"
  },
  "language_info": {
   "codemirror_mode": {
    "name": "ipython",
    "version": 3
   },
   "file_extension": ".py",
   "mimetype": "text/x-python",
   "name": "python",
   "nbconvert_exporter": "python",
   "pygments_lexer": "ipython3",
   "version": "3.12.4"
  }
 },
 "nbformat": 4,
 "nbformat_minor": 5
}
