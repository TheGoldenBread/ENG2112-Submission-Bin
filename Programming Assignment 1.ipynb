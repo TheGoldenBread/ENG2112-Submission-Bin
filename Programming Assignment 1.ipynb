{
 "cells": [
  {
   "cell_type": "markdown",
   "id": "eeba6daf-6c62-4a6e-8f63-ff987aabde26",
   "metadata": {},
   "source": [
    "# Assignments"
   ]
  },
  {
   "cell_type": "markdown",
   "id": "0b97a5ea-b2fa-4c30-8b45-81740608684a",
   "metadata": {},
   "source": [
    "### Alphabet Soup Problem"
   ]
  },
  {
   "cell_type": "code",
   "execution_count": 1,
   "id": "be1004e9-4621-45d5-8d5d-38941dd7f952",
   "metadata": {},
   "outputs": [
    {
     "name": "stdout",
     "output_type": "stream",
     "text": [
      "        abcdeeefghhijklmnoooopqrrsttuuvwxyz\n",
      "    aaadeeeffgiiiklmnpqrrssuuvwyzz\n"
     ]
    }
   ],
   "source": [
    "def letter_sorter(s): #function for sorting\n",
    "    return ''.join(sorted(s)) #it sorts then concatenates the letters using join\n",
    "    \n",
    "#Example (Note: Capital letters go first, so avoid using it)\n",
    "print(letter_sorter(\"the quick brown fox jumps over the lazy dog\"))\n",
    "print(letter_sorter(\"puffing wizards amaze quirky elves\"))"
   ]
  },
  {
   "cell_type": "markdown",
   "id": "343bbeb2-2e83-4f53-9090-a83067ca0683",
   "metadata": {},
   "source": [
    "### Emoticon Problem"
   ]
  },
  {
   "cell_type": "code",
   "execution_count": 21,
   "id": "45de2997-8e36-4143-b5be-20c9e0b52d7c",
   "metadata": {},
   "outputs": [
    {
     "name": "stdout",
     "output_type": "stream",
     "text": [
      ":) , you're on camera!\n",
      "grrr >:(\n",
      "bohoo :(\n",
      "nihahaha XD\n",
      "frieren ( ´ ω ` )\n"
     ]
    }
   ],
   "source": [
    "def emotify(sentence):\n",
    "    # Dictionary that has the words and the faces they are getting replaced with\n",
    "    emoticons = {\n",
    "        \"smile\": \":)\",\n",
    "        \"grin\": \":D\",\n",
    "        \"sad\": \":(\",\n",
    "        \"mad\": \">:(\",\n",
    "        \"haha\": \"XD\",\n",
    "        \"wallahi\": \"( ´ ω ` )\"\n",
    "    }\n",
    "    \n",
    "    # Replaces each splitted word with the one that corresponds in the dictionary\n",
    "    words = sentence.split()  # Splitter e.g. (\"I\", \"am\", \"mad\")\n",
    "    result = [emoticons.get(word.lower(), word) for word in words]  # If individual words matches any in the dictionary replaces it\n",
    "    \n",
    "    return ' '.join(result)  # Join the resulting list back into a sentence string\n",
    "\n",
    "# Example usage:\n",
    "print(emotify(\"Smile , you're on camera!\"))\n",
    "print(emotify(\"grrr mad\"))\n",
    "print(emotify(\"bohoo sad\"))\n",
    "print(emotify(\"nihahaha haha\"))\n",
    "print(emotify(\"frieren wallahi\"))"
   ]
  },
  {
   "cell_type": "markdown",
   "id": "2e20aab5-4b32-4974-a667-bb3c67cfad75",
   "metadata": {},
   "source": [
    "### Unpacking List Problem"
   ]
  },
  {
   "cell_type": "code",
   "execution_count": 27,
   "id": "87e701c1-3271-4e3e-a7d5-134ee080f5a3",
   "metadata": {},
   "outputs": [
    {
     "name": "stdout",
     "output_type": "stream",
     "text": [
      "first: write\n",
      "middle: ['your', 'code']\n",
      "last: here\n"
     ]
    }
   ],
   "source": [
    "list = [\"write\", \"your\", \"code\", \"here\"]\n",
    "\n",
    "# Unpacks list\n",
    "first, *middle, last = list\n",
    "\n",
    "# Prints variables\n",
    "print(\"first:\", first)   \n",
    "print(\"middle:\", middle) \n",
    "print(\"last:\", last)     \n"
   ]
  },
  {
   "cell_type": "code",
   "execution_count": null,
   "id": "875b963c-9c4f-4cad-9266-9119669b63c2",
   "metadata": {},
   "outputs": [],
   "source": []
  }
 ],
 "metadata": {
  "kernelspec": {
   "display_name": "Python 3 (ipykernel)",
   "language": "python",
   "name": "python3"
  },
  "language_info": {
   "codemirror_mode": {
    "name": "ipython",
    "version": 3
   },
   "file_extension": ".py",
   "mimetype": "text/x-python",
   "name": "python",
   "nbconvert_exporter": "python",
   "pygments_lexer": "ipython3",
   "version": "3.12.4"
  }
 },
 "nbformat": 4,
 "nbformat_minor": 5
}
