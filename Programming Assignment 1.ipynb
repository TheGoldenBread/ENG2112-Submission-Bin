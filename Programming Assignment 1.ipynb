{
 "cells": [
  {
   "cell_type": "markdown",
   "id": "eeba6daf-6c62-4a6e-8f63-ff987aabde26",
   "metadata": {},
   "source": [
    "# Programming Assignment 1"
   ]
  },
  {
   "cell_type": "markdown",
   "id": "4d00cecf-0f25-4266-ab39-d29e97a85ca6",
   "metadata": {},
   "source": [
    "## Experiment 1 Introduction to Python"
   ]
  },
  {
   "cell_type": "markdown",
   "id": "0b97a5ea-b2fa-4c30-8b45-81740608684a",
   "metadata": {},
   "source": [
    "### Alphabet Soup Problem"
   ]
  },
  {
   "cell_type": "markdown",
   "id": "aaa92e18-c087-4d88-8bba-6792a2836ca6",
   "metadata": {},
   "source": [
    "This creates a function that takes strings and outputs its letters in alphabetical order.\n",
    "<br> e.g. function_name(\"i have nothing but my sorrow\") --> abeghhiimnnooorrsttuvwy"
   ]
  },
  {
   "cell_type": "code",
   "execution_count": 17,
   "id": "be1004e9-4621-45d5-8d5d-38941dd7f952",
   "metadata": {},
   "outputs": [],
   "source": [
    "def letter_sorter(s): #function for sorting\n",
    "    return ''.join(sorted(s.lower())) #it sorts then concatenates the letters using join"
   ]
  },
  {
   "cell_type": "markdown",
   "id": "b714265b-23b5-450a-b4ed-f2518256c9a0",
   "metadata": {},
   "source": [
    "#### Example"
   ]
  },
  {
   "cell_type": "code",
   "execution_count": 42,
   "id": "b59caa23-03e7-49e9-b6e4-d6833b07a510",
   "metadata": {},
   "outputs": [
    {
     "name": "stdout",
     "output_type": "stream",
     "text": [
      "        abcdeeefghhijklmnoooopqrrsttuuvwxyz\n",
      "    aaadeeeffgiiiklmnpqrrssuuvwyzz\n",
      "  beegkkrrsttu\n",
      "            #$%00012@aaaaccdeeffhhhhhiiijjllnnnnooooqrrrsssstuy\n"
     ]
    }
   ],
   "source": [
    "#Example (Note: Capital letters go first, so avoid using it *patched in v.01 as per suggestion of a kind soul by making it all lowercase*)\n",
    "print(letter_sorter(\"the quick brown fox jumps over the lazy dog\"))\n",
    "print(letter_sorter(\"puffing wizards amaze quirky elves\"))\n",
    "#Example with capital letters\n",
    "print(letter_sorter(\"GeT rEkT SkRuB\"))\n",
    "#Example with special characters (Special characters go first with the exception of @ for some reason and numbers go second then the letters)\n",
    "print(letter_sorter(\"John has 100$ and has 20% equity in sales #rich @John cool frfr\"))"
   ]
  },
  {
   "cell_type": "markdown",
   "id": "343bbeb2-2e83-4f53-9090-a83067ca0683",
   "metadata": {},
   "source": [
    "### Emoticon Problem"
   ]
  },
  {
   "cell_type": "markdown",
   "id": "ffcbfbe9-c8c8-4fc0-8aa1-b21a44c6e93c",
   "metadata": {},
   "source": [
    "This creates a function that changes specific words into emoticons.\n",
    "<br>e.g. function_name(\"I am mad\") --> I am >:("
   ]
  },
  {
   "cell_type": "code",
   "execution_count": 37,
   "id": "45de2997-8e36-4143-b5be-20c9e0b52d7c",
   "metadata": {},
   "outputs": [],
   "source": [
    "def emotify(sentence):\n",
    "    # Dictionary that has the words and the faces they are getting replaced with\n",
    "    emoticons = {\n",
    "        \"smile\": \":)\",\n",
    "        \"grin\": \":D\",\n",
    "        \"sad\": \":(\",\n",
    "        \"mad\": \">:(\",\n",
    "        \"haha\": \"XD\",\n",
    "        \"wallahi\": \"( ´ ω ` )\"\n",
    "    }\n",
    "    \n",
    "    # Replaces each splitted word with the one that corresponds in the dictionary\n",
    "    words = sentence.split()  # Splitter e.g. (\"I\", \"am\", \"mad\")\n",
    "    result = [emoticons.get(word.lower(), word) for word in words]  # If individual words matches any in the dictionary replaces it\n",
    "    \n",
    "    return ' '.join(result)  # Join the resulting list back into a sentence string"
   ]
  },
  {
   "cell_type": "markdown",
   "id": "65201ca3-96e6-4050-b962-edb9d07bd835",
   "metadata": {},
   "source": [
    "#### Example"
   ]
  },
  {
   "cell_type": "code",
   "execution_count": 35,
   "id": "3f112743-30f5-48d3-9dda-4a9dabc7b04f",
   "metadata": {},
   "outputs": [
    {
     "name": "stdout",
     "output_type": "stream",
     "text": [
      ":) , you're on camera!\n",
      "grrr >:(\n",
      "bohoo :(\n",
      "nihahaha XD\n",
      "frieren ( ´ ω ` )\n",
      "All elves are born inherently with the frieren face ( ´ ω ` )\n"
     ]
    }
   ],
   "source": [
    "# Example usage:\n",
    "print(emotify(\"Smile , you're on camera!\"))\n",
    "print(emotify(\"grrr mad\"))\n",
    "print(emotify(\"bohoo sad\"))\n",
    "print(emotify(\"nihahaha haha\"))\n",
    "print(emotify(\"frieren wallahi\"))\n",
    "#Example with mixed-case\n",
    "print(emotify(\"All elves are born inherently with the frieren face WaLlAhI\"))"
   ]
  },
  {
   "cell_type": "markdown",
   "id": "2e20aab5-4b32-4974-a667-bb3c67cfad75",
   "metadata": {},
   "source": [
    "### Unpacking List Problem"
   ]
  },
  {
   "cell_type": "markdown",
   "id": "f57fa36d-5b63-447c-8467-acb87c566c61",
   "metadata": {},
   "source": [
    "Unpack the list writeyourcodehere into three variables, being first, middle, and last, with middle being everything in between the first and last element.\n",
    "<br> e.g. list = [\"write\", \"your\", \"code\", \"here\"] first: write middle: [\"your\", \"code\"] last: here\n",
    "###### v.01 update added a function to detect if list has an insufficient number of elements"
   ]
  },
  {
   "cell_type": "code",
   "execution_count": 32,
   "id": "9b66d12f-5059-420d-bf83-1b060e2cc872",
   "metadata": {},
   "outputs": [],
   "source": [
    "### Original code for my intention\n",
    "#list = [\"write\", \"your\", \"code\", \"here\"]\n",
    "\n",
    "## Unpacks list\n",
    "#first, *middle, last = list\n",
    "\n",
    "## Prints variables\n",
    "#print(\"first:\", first)   \n",
    "#print(\"middle:\", middle) \n",
    "#print(\"last:\", last)\n",
    "\n",
    "### Updated code for any list given\n",
    "def list_check(lst):  # function for checking if list has 3 or more elements\n",
    "    if len(lst) < 3:\n",
    "        print(\"List does not contain enough elements for unpacking.\")\n",
    "        return\n",
    "    \n",
    "    # Unpacks the list\n",
    "    first, *middle, last = lst\n",
    "    \n",
    "    # Prints variables\n",
    "    print(\"first:\", first)\n",
    "    print(\"middle:\", middle)\n",
    "    print(\"last:\", last)"
   ]
  },
  {
   "cell_type": "markdown",
   "id": "f42c651e-12fc-4524-bfe3-6c7d26e70286",
   "metadata": {},
   "source": [
    "#### Example"
   ]
  },
  {
   "cell_type": "code",
   "execution_count": 34,
   "id": "875b963c-9c4f-4cad-9266-9119669b63c2",
   "metadata": {},
   "outputs": [
    {
     "name": "stdout",
     "output_type": "stream",
     "text": [
      "List with more than enough elements\n",
      "first: 1\n",
      "middle: [2, 3, 4, 5]\n",
      "last: 6\n",
      "\n",
      "List with less than 3 elements\n",
      "List does not contain enough elements for unpacking.\n",
      "\n",
      "List with exactly 3 elements\n",
      "first: John\n",
      "middle: ['Justice']\n",
      "last: Judgment\n"
     ]
    }
   ],
   "source": [
    "# Examples\n",
    "print(\"List with more than enough elements\")\n",
    "list_check([1, 2, 3, 4, 5, 6])\n",
    "print(\"\\nList with less than 3 elements\")\n",
    "list_check([1, 2])\n",
    "print(\"\\nList with exactly 3 elements\")\n",
    "list_check([\"John\", \"Justice\", \"Judgment\"])"
   ]
  },
  {
   "cell_type": "code",
   "execution_count": null,
   "id": "1c01cd91-d3fe-4b94-a485-56c8f4a9b492",
   "metadata": {},
   "outputs": [],
   "source": []
  }
 ],
 "metadata": {
  "kernelspec": {
   "display_name": "Python 3 (ipykernel)",
   "language": "python",
   "name": "python3"
  },
  "language_info": {
   "codemirror_mode": {
    "name": "ipython",
    "version": 3
   },
   "file_extension": ".py",
   "mimetype": "text/x-python",
   "name": "python",
   "nbconvert_exporter": "python",
   "pygments_lexer": "ipython3",
   "version": "3.12.4"
  }
 },
 "nbformat": 4,
 "nbformat_minor": 5
}
